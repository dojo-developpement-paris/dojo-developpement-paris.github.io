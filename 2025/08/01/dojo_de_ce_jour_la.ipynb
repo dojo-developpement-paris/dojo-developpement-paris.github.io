{
  "cells": [
    {
      "cell_type": "code",
      "execution_count": 1,
      "id": "24b23ad4-b2ea-48e7-b6af-f101281229a9",
      "metadata": {},
      "outputs": [],
      "source": [
        "import os\n",
        "from pathlib import Path\n",
        "import json"
      ]
    },
    {
      "cell_type": "code",
      "execution_count": 2,
      "id": "40078f19-6536-4b68-aa7a-b6c40146892d",
      "metadata": {},
      "outputs": [],
      "source": [
        "import networkx"
      ]
    },
    {
      "cell_type": "code",
      "execution_count": 3,
      "id": "37a5540b-357e-4b70-8530-129f5b115358",
      "metadata": {},
      "outputs": [],
      "source": [
        "graph =networkx.complete_graph(4)\n",
        "networkx.draw(graph)"
      ]
    },
    {
      "cell_type": "code",
      "execution_count": 45,
      "id": "a7bd8c24-e148-4649-bf9c-30c3fb932834",
      "metadata": {
        "scrolled": true
      },
      "outputs": [],
      "source": [
        "words = []\n",
        "\n",
        "with open('/usr/share/dict/american-english') as wordfile:\n",
        "    words = wordfile.read().split('\\n')\n",
        "\n",
        "words = [ word.upper() for word in words if \"'s\" not in word ]\n",
        "\n",
        "import random\n",
        "words.shuffle()\n",
        "\n",
        "select_few = words[10000:10030]\n",
        "select_few"
      ]
    },
    {
      "cell_type": "code",
      "execution_count": 42,
      "id": "31265f11-5686-4ff1-9858-fa12c78d69c9",
      "metadata": {},
      "outputs": [],
      "source": [
        "import graphviz"
      ]
    },
    {
      "cell_type": "code",
      "execution_count": 44,
      "id": "10a04821-553d-4e5f-a59c-d5d5d91c32c7",
      "metadata": {},
      "outputs": [],
      "source": [
        "### ON NE TIRE PAS SUR LE PIANISTE\n",
        "\n",
        "my_graph = graphviz.Graph()#engine = 'twopi')\n",
        "seen = set()\n",
        "counter = 0\n",
        "flag = False\n",
        "for word in select_few:\n",
        "    for i in range(len(word)-3):\n",
        "        if flag: continue\n",
        "        trigram = word[i:i+3]\n",
        "        for other in select_few:\n",
        "            if word == other:\n",
        "                continue\n",
        "                \n",
        "            counter +=1\n",
        "            if counter > 10000:\n",
        "                flag =True\n",
        "            if trigram in word and (other, word) not in seen :\n",
        "                my_graph.edge(other, word)\n",
        "                seen.add((other, word))\n",
        "                seen.add((word, other))\n",
        "\n",
        "my_graph.format='svg'\n",
        "my_graph.render()"
      ]
    },
    {
      "cell_type": "code",
      "execution_count": null,
      "id": "26b39a83-4989-435d-a0a8-1bba5b82585d",
      "metadata": {},
      "outputs": [],
      "source": []
    }
  ],
  "metadata": {
    "kernelspec": {
      "display_name": "Python 3 (ipykernel)",
      "language": "python",
      "name": "python3"
    },
    "language_info": {
      "codemirror_mode": {
        "name": "ipython",
        "version": 3
      },
      "file_extension": ".py",
      "mimetype": "text/x-python",
      "name": "python",
      "nbconvert_exporter": "python",
      "pygments_lexer": "ipython3",
      "version": "3.12.8"
    }
  },
  "nbformat": 4,
  "nbformat_minor": 5
}
