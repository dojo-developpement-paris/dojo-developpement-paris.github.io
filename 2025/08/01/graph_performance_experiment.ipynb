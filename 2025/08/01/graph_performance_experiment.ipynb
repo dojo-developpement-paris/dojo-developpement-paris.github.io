{
  "cells": [
    {
      "cell_type": "code",
      "execution_count": 51,
      "id": "24b23ad4-b2ea-48e7-b6af-f101281229a9",
      "metadata": {},
      "outputs": [],
      "source": [
        "import os\n",
        "from pathlib import Path\n",
        "import json"
      ]
    },
    {
      "cell_type": "code",
      "execution_count": 52,
      "id": "40078f19-6536-4b68-aa7a-b6c40146892d",
      "metadata": {},
      "outputs": [],
      "source": [
        "import networkx"
      ]
    },
    {
      "cell_type": "code",
      "execution_count": 59,
      "id": "37a5540b-357e-4b70-8530-129f5b115358",
      "metadata": {},
      "outputs": [],
      "source": [
        "graph =networkx.complete_graph(4)\n",
        "\n",
        "graph.add_node(\"hello\")\n",
        "networkx.draw(graph)\n",
        "networkx.draw_networkx_labels(graph)"
      ]
    },
    {
      "cell_type": "code",
      "execution_count": 20,
      "id": "a7bd8c24-e148-4649-bf9c-30c3fb932834",
      "metadata": {
        "scrolled": true
      },
      "outputs": [],
      "source": [
        "words = []\n",
        "\n",
        "with open('/usr/share/dict/american-english') as wordfile:\n",
        "    words = wordfile.read().split('\\n')\n",
        "\n",
        "words = [ word.upper() for word in words if \"'s\" not in word ]\n",
        "\n",
        "import random\n",
        "random.shuffle(words)\n",
        "\n",
        "select_few = words[10000:10030]\n",
        "select_few"
      ]
    },
    {
      "cell_type": "code",
      "execution_count": 21,
      "id": "31265f11-5686-4ff1-9858-fa12c78d69c9",
      "metadata": {},
      "outputs": [],
      "source": [
        "import graphviz"
      ]
    },
    {
      "cell_type": "code",
      "execution_count": 61,
      "id": "10a04821-553d-4e5f-a59c-d5d5d91c32c7",
      "metadata": {},
      "outputs": [],
      "source": [
        "# Naive approach\n",
        "\n",
        "my_graph = graphviz.Graph()#engine = 'twopi')\n",
        "\n",
        "def share_a_trigram(word, other):\n",
        "    for i in range(len(word)-2):\n",
        "        trigram = word[i:i+3]\n",
        "        if trigram in other:\n",
        "            print(word, ' - ', other +  ' -> ' + trigram)\n",
        "            return True\n",
        "\n",
        "def adjacent_words(graph, words):\n",
        "    seen = set()\n",
        "    for word in words:\n",
        "        graph.node(word)\n",
        "        seen.add(word)\n",
        "        for other in words:\n",
        "            if other not in seen:\n",
        "                if share_a_trigram(word, other):\n",
        "                    graph.edge(word, other)\n",
        "\n",
        "adjacent_words(my_graph, select_few)"
      ]
    },
    {
      "cell_type": "code",
      "execution_count": 60,
      "id": "26b39a83-4989-435d-a0a8-1bba5b82585d",
      "metadata": {},
      "outputs": [],
      "source": [
        "my_graph.format='png'\n",
        "my_graph.render()\n",
        "\n",
        "from IPython.display import Image\n",
        "Image('Graph.gv.png')"
      ]
    },
    {
      "cell_type": "code",
      "execution_count": 46,
      "id": "d9b36b3d-5537-42ab-9586-aa4525114510",
      "metadata": {},
      "outputs": [],
      "source": [
        "# trying to scale the naive approach\n",
        "big_graph = graphviz.Graph()\n",
        "\n",
        "adjacent_words(big_graph, words)\n",
        "#this step takes forever"
      ]
    },
    {
      "cell_type": "code",
      "execution_count": 48,
      "id": "7360e2aa-1b14-4496-95b1-1c633372f4ff",
      "metadata": {},
      "outputs": [],
      "source": [
        "big_graph = graphviz.Graph()\n",
        "\n",
        "for word in words:\n",
        "    big_graph.node(word)\n",
        "\n",
        "big_graph.format='png'\n",
        "big_graph.render()\n",
        "Image('Graph.gv.png')\n",
        "# this step also takes forever, though. So rendering a 70k node graph with dot seems complicated even if no graph calculation is made:\n",
        "# dot: graph is too large for cairo-renderer bitmaps. Scaling by 0.00229426 to fit"
      ]
    },
    {
      "cell_type": "code",
      "execution_count": 58,
      "id": "38b27a15-0002-4dfb-b987-fc3e3cfeee51",
      "metadata": {},
      "outputs": [],
      "source": [
        "big_graph = graphviz.Graph(engine='sfdp')\n",
        "\n",
        "for word in words:\n",
        "    big_graph.node(word)\n",
        "\n",
        "big_graph.format='png'\n",
        "big_graph.render()\n",
        "Image('Graph.gv.png')\n",
        "# more powerful rendering engines also chokes on my computer."
      ]
    },
    {
      "cell_type": "code",
      "execution_count": 57,
      "id": "25863003-7001-48a0-81f5-2312f80b63e2",
      "metadata": {},
      "outputs": [],
      "source": [
        "# Trying big graphs with networkx:\n",
        "graph =networkx.complete_graph(1000)\n",
        "\n",
        "networkx.draw(graph)\n",
        "# 10 nodes works, 100 nodes works but is barely readable.\n",
        "# For 1k nodes, networkx crashes because it then requires scipy module to render, and we don't use scipy."
      ]
    },
    {
      "cell_type": "code",
      "execution_count": null,
      "id": "c2a1ad14-68da-4127-b6df-6f65e73cdf1b",
      "metadata": {},
      "outputs": [],
      "source": [
        "# Conclusion: the exercise seems futile.\n",
        "# even if we found a way to calculate a proper graph for this exercise, the libs we use are not suited for rendering large graphs."
      ]
    }
  ],
  "metadata": {
    "kernelspec": {
      "display_name": "Python 3 (ipykernel)",
      "language": "python",
      "name": "python3"
    },
    "language_info": {
      "codemirror_mode": {
        "name": "ipython",
        "version": 3
      },
      "file_extension": ".py",
      "mimetype": "text/x-python",
      "name": "python",
      "nbconvert_exporter": "python",
      "pygments_lexer": "ipython3",
      "version": "3.12.8"
    }
  },
  "nbformat": 4,
  "nbformat_minor": 5
}
