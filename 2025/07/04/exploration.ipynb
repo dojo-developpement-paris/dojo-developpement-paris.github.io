{
  "cells": [
    {
      "cell_type": "code",
      "execution_count": 1,
      "id": "24b23ad4-b2ea-48e7-b6af-f101281229a9",
      "metadata": {},
      "outputs": [],
      "source": [
        "import os\n",
        "from pathlib import Path\n",
        "import json"
      ]
    },
    {
      "cell_type": "code",
      "execution_count": 2,
      "id": "40078f19-6536-4b68-aa7a-b6c40146892d",
      "metadata": {},
      "outputs": [],
      "source": [
        "import networkx"
      ]
    },
    {
      "cell_type": "code",
      "execution_count": 3,
      "id": "37a5540b-357e-4b70-8530-129f5b115358",
      "metadata": {},
      "outputs": [],
      "source": [
        "graph =networkx.complete_graph(4)\n",
        "networkx.draw(graph)"
      ]
    },
    {
      "cell_type": "code",
      "execution_count": 22,
      "id": "63cdd4bc-5a88-4a8b-8923-0550b4c4f84e",
      "metadata": {
        "scrolled": true
      },
      "outputs": [],
      "source": [
        "\n",
        "\n",
        "tcabs_ = []\n",
        "tcabs_"
      ]
    },
    {
      "cell_type": "code",
      "execution_count": 102,
      "id": "a7bd8c24-e148-4649-bf9c-30c3fb932834",
      "metadata": {},
      "outputs": [],
      "source": [
        "## Réalisé hors-dojo pour anonymiser le code.\n",
        "\n",
        "words = []\n",
        "with open('/usr/share/dict/french') as wordfile:\n",
        "    words = wordfile.read().split('\\n')\n",
        "\n",
        "words = [word for word in words if \"'\" not in word and len(word)> 3 and \"-\" not in word]\n",
        "\n",
        "import random\n",
        "random.shuffle(words)\n",
        "\n",
        "dict_ = {}\n",
        "\n",
        "def anonymize(tcab):\n",
        "    bits = tcab.get('nom').split('-')\n",
        "    sub_bits = [ sub_bit.strip() for sub_bit in bits[2].split('//')]\n",
        "\n",
        "    if tcab.get('type_nom') not in dict_:\n",
        "        replacement = words.pop()\n",
        "        dict_[tcab.get('type_nom')] = replacement\n",
        "    \n",
        "    for bit in bits:\n",
        "        if bit not in dict_:\n",
        "            replacement = words.pop()\n",
        "            dict_[bit] = replacement\n",
        "    for bit in sub_bits:\n",
        "        if bit and bit not in dict_:\n",
        "            replacement = words.pop()\n",
        "            dict_[bit] = replacement\n",
        "\n",
        "    bits_2_replacement = bits[2]\n",
        "    if sub_bits[0]:\n",
        "         bits_2_replacement = bits_2_replacement.replace(sub_bits[0], dict_.get(sub_bits[0]))\n",
        "    if sub_bits[1]:\n",
        "        bits_2_replacement = bits_2_replacement.replace(sub_bits[1], dict_.get(sub_bits[1]))\n",
        "    if sub_bits[2]:\n",
        "        bits_2_replacement =  bits_2_replacement.replace(sub_bits[2], dict_.get(sub_bits[2]))\n",
        "\n",
        "    def nth(list_, position):\n",
        "        return (list_[position:] or [None])[0]\n",
        "    \n",
        "    return {'type_nom': dict_.get(tcab.get('type_nom')), 'nom': '-'.join(\n",
        "        [ bit for bit in [\n",
        "            'cable',\n",
        "            dict_.get(bits[1]),\n",
        "            bits_2_replacement,\n",
        "            dict_.get(nth(bits, 3)),\n",
        "            dict_.get(nth(bits, 4)),\n",
        "            dict_.get(nth(bits, 5)),\n",
        "            dict_.get(nth(bits, 6)),\n",
        "            dict_.get(nth(bits, 7)),\n",
        "            dict_.get(nth(bits, 8)),\n",
        "            dict_.get(nth(bits, 9)),\n",
        "            dict_.get(nth(bits, 10))\n",
        "        ] if bit])    \n",
        "    }\n",
        "\n",
        "tcabs = [ anonymize(tcab) for tcab in tcabs_ ]\n",
        "\n",
        "#with open('/home/user/anonymized.json', 'w+') as anon:\n",
        "#    anon.write((json.dumps(tcabs)))\n",
        "with open('/home/user/anonymized.json') as anon:\n",
        "    tcabs = json.loads(anon.read())\n",
        "tcabs\n"
      ]
    },
    {
      "cell_type": "code",
      "execution_count": 78,
      "id": "ca844855-6a14-4364-850f-67d820be1e0a",
      "metadata": {
        "scrolled": true
      },
      "outputs": [],
      "source": [
        "ma_nouvelle_liste = [ tcab.get('nom') for tcab in tcabs ]\n",
        "ma_nouvelle_liste"
      ]
    },
    {
      "cell_type": "code",
      "execution_count": 79,
      "id": "72d91e11-4bbb-4deb-bb90-912469281c15",
      "metadata": {},
      "outputs": [],
      "source": [
        "noms = ma_nouvelle_liste\n",
        "nombres_de_champs = [len(nom.split('-')) for nom in noms]"
      ]
    },
    {
      "cell_type": "code",
      "execution_count": 81,
      "id": "241884d3-06ac-4e97-a6c2-9d4a8554bd27",
      "metadata": {},
      "outputs": [],
      "source": [
        "import functools\n",
        "acc_ = {}\n",
        "def accumule(acc, valeur):\n",
        "    v = acc.get(valeur, 0)\n",
        "    acc[valeur] = v+1\n",
        "    return acc\n",
        "    \n",
        "\n",
        "stats = functools.reduce(accumule, nombres_de_champs, acc_)"
      ]
    },
    {
      "cell_type": "code",
      "execution_count": 82,
      "id": "78696668-5509-4122-9f0a-62cfe140883c",
      "metadata": {},
      "outputs": [],
      "source": [
        "stats"
      ]
    },
    {
      "cell_type": "code",
      "execution_count": 83,
      "id": "afa960f2-4493-4ffe-9c27-7534d65efe4c",
      "metadata": {
        "scrolled": true
      },
      "outputs": [],
      "source": [
        "[ nom for nom in noms if len(nom.split('-')) == 10]"
      ]
    },
    {
      "cell_type": "code",
      "execution_count": 86,
      "id": "656e3114-4fa9-47bc-b3ff-846c44c2900b",
      "metadata": {},
      "outputs": [],
      "source": [
        "copper_only = [tcab.get('nom') for tcab in tcabs if tcab.get('type_nom') == 'inférassions']\n",
        "\n",
        "functools.reduce(accumule, [len(cable.split('-')) for cable in copper_only],   {})"
      ]
    },
    {
      "cell_type": "code",
      "execution_count": 87,
      "id": "3be48b0e-ff30-4af8-9e90-e39ae47b869a",
      "metadata": {
        "scrolled": true
      },
      "outputs": [],
      "source": [
        "[nom for nom in copper_only if len(nom.split('-')) == 3 ]"
      ]
    },
    {
      "cell_type": "code",
      "execution_count": 88,
      "id": "ef957050-a0a2-4016-8a18-e3798fcf439e",
      "metadata": {
        "scrolled": true
      },
      "outputs": [],
      "source": [
        "ends = [(cable.split('-')[2].split('//')[1].strip(),cable.split('-')[2].split('//')[2].strip())  for cable in copper_only]\n",
        "ends"
      ]
    },
    {
      "cell_type": "code",
      "execution_count": 14,
      "id": "ac83172e-03c7-4f74-b146-11e4e9ead229",
      "metadata": {},
      "outputs": [],
      "source": [
        "!pip install graphviz"
      ]
    },
    {
      "cell_type": "code",
      "execution_count": 89,
      "id": "31265f11-5686-4ff1-9858-fa12c78d69c9",
      "metadata": {},
      "outputs": [],
      "source": [
        "import graphviz"
      ]
    },
    {
      "cell_type": "code",
      "execution_count": 90,
      "id": "11b57c1c-7afc-42f2-b24a-e163983e3abb",
      "metadata": {},
      "outputs": [],
      "source": [
        "my_graph = graphviz.Graph(engine = 'twopi')"
      ]
    },
    {
      "cell_type": "code",
      "execution_count": 91,
      "id": "d4f0715e-5eba-433b-a98f-3bbdd3088ac8",
      "metadata": {
        "scrolled": true
      },
      "outputs": [],
      "source": [
        "for end in ends:\n",
        "    my_graph.edge(end[0],end[1])"
      ]
    },
    {
      "cell_type": "code",
      "execution_count": 18,
      "id": "ece980dc-7496-4119-ae0a-4b74055c492b",
      "metadata": {},
      "outputs": [],
      "source": [
        "my_graph.format= 'svg'\n",
        "my_graph.render()"
      ]
    },
    {
      "cell_type": "code",
      "execution_count": 92,
      "id": "d0114529-ef1b-4b5e-9164-8a3913b4779b",
      "metadata": {},
      "outputs": [],
      "source": [
        "my_graph.view()"
      ]
    },
    {
      "cell_type": "code",
      "execution_count": 20,
      "id": "73964f99-0eaa-494b-853e-55ccec7c2983",
      "metadata": {
        "scrolled": true
      },
      "outputs": [],
      "source": [
        "ends_all = [(cable.split('-')[2].split('//')[1].strip(),cable.split('-')[2].split('//')[2].strip())  for cable in noms]\n",
        "ends_all"
      ]
    },
    {
      "cell_type": "code",
      "execution_count": 75,
      "id": "633e7254-2b93-4dab-a293-78058e2e0ccd",
      "metadata": {},
      "outputs": [],
      "source": [
        "graph_of_all = graphviz.Graph(engine = 'twopi')\n",
        "for end in ends_all:\n",
        "    if end[0] != end[1]:\n",
        "        graph_of_all.edge(end[0],end[1], color='blue')"
      ]
    },
    {
      "cell_type": "code",
      "execution_count": 76,
      "id": "8f46d908-d0ef-4d76-bc05-ddda13801ada",
      "metadata": {},
      "outputs": [],
      "source": [
        "graph_of_all.format='svg'\n",
        "graph_of_all.view()"
      ]
    },
    {
      "cell_type": "code",
      "execution_count": null,
      "id": "8d3943c6-4293-487f-825d-0a53da636042",
      "metadata": {},
      "outputs": [],
      "source": []
    }
  ],
  "metadata": {
    "kernelspec": {
      "display_name": "Python 3 (ipykernel)",
      "language": "python",
      "name": "python3"
    },
    "language_info": {
      "codemirror_mode": {
        "name": "ipython",
        "version": 3
      },
      "file_extension": ".py",
      "mimetype": "text/x-python",
      "name": "python",
      "nbconvert_exporter": "python",
      "pygments_lexer": "ipython3",
      "version": "3.12.8"
    }
  },
  "nbformat": 4,
  "nbformat_minor": 5
}
